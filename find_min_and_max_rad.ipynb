{
 "cells": [
  {
   "cell_type": "code",
   "execution_count": 1,
   "metadata": {},
   "outputs": [],
   "source": [
    "import pandas as pd\n",
    "import numpy as np"
   ]
  },
  {
   "cell_type": "code",
   "execution_count": 2,
   "metadata": {},
   "outputs": [],
   "source": [
    "filename_center = \"P1 center points.csv\""
   ]
  },
  {
   "cell_type": "code",
   "execution_count": 3,
   "metadata": {},
   "outputs": [],
   "source": [
    "file_center = pd.read_csv(filename_center, header=None, names=['Center','X', 'Y', 'Z'])"
   ]
  },
  {
   "cell_type": "code",
   "execution_count": 5,
   "metadata": {},
   "outputs": [],
   "source": [
    "for i in file_center.index:\n",
    "    center_name = file_center.iloc[i]['Center']\n",
    "    center_x = file_center.iloc[i]['X']\n",
    "    center_y = file_center.iloc[i]['Y']\n",
    "    center_z = file_center.iloc[i]['Z']\n",
    "    \n",
    "    #print(center_name, center_x, center_y, center_z)\n",
    "    input_filename = \"P1 cloud points_CS \" + str(i+1) + \".csv\"\n",
    "    output_filename = \"P1_min_max_CS \" + str(i+1) + \".csv\"\n",
    "    df_cloud = pd.read_csv(input_filename, header=None, names=['X', 'Y', 'Z'])\n",
    "    df_cloud['dist'] = np.round(np.sqrt((df_cloud['X'] - center_x)**2 + (df_cloud['Y'] - center_y)**2 + (df_cloud['Z'] - center_z)**2),3)\n",
    "    \n",
    "    max_idx = df_cloud['dist'].idxmax()\n",
    "    min_idx = df_cloud['dist'].idxmin()\n",
    "\n",
    "    df_min_max = df_cloud.iloc[[min_idx, max_idx]]\n",
    "    \n",
    "    df_min_max.to_csv(output_filename, index=False, header=False)"
   ]
  },
  {
   "cell_type": "code",
   "execution_count": null,
   "metadata": {},
   "outputs": [],
   "source": []
  }
 ],
 "metadata": {
  "kernelspec": {
   "display_name": "Python 3",
   "language": "python",
   "name": "python3"
  },
  "language_info": {
   "codemirror_mode": {
    "name": "ipython",
    "version": 3
   },
   "file_extension": ".py",
   "mimetype": "text/x-python",
   "name": "python",
   "nbconvert_exporter": "python",
   "pygments_lexer": "ipython3",
   "version": "3.6.5"
  }
 },
 "nbformat": 4,
 "nbformat_minor": 2
}
